{
 "cells": [
  {
   "cell_type": "markdown",
   "id": "73ea347c",
   "metadata": {},
   "source": [
    "# import package"
   ]
  },
  {
   "cell_type": "code",
   "execution_count": 1,
   "id": "3c721ea4",
   "metadata": {},
   "outputs": [
    {
     "name": "stderr",
     "output_type": "stream",
     "text": [
      "Using TensorFlow backend.\n"
     ]
    }
   ],
   "source": [
    "# 資料處理\n",
    "import pandas as pd\n",
    "import numpy as np\n",
    "# 影像讀取\n",
    "from keras.preprocessing import image\n",
    "# 進度條\n",
    "from tqdm import tqdm"
   ]
  },
  {
   "cell_type": "markdown",
   "id": "34d3e621",
   "metadata": {},
   "source": [
    "# 影像"
   ]
  },
  {
   "cell_type": "markdown",
   "id": "abeaa32f",
   "metadata": {},
   "source": [
    "## 定義&讀取"
   ]
  },
  {
   "cell_type": "code",
   "execution_count": 2,
   "id": "64225947",
   "metadata": {},
   "outputs": [],
   "source": [
    "def load_image(file_name, dataset_name, dataset_path, input_size, array_name):\n",
    "    data = pd.read_csv(file_name)\n",
    "    dataset_name = []\n",
    "    for i in tqdm(range(data.shape[0])):\n",
    "        # target_size為載入圖片後將大小縮放至設定的大小\n",
    "        img = image.load_img(dataset_path + data[\"File_name\"][i], \n",
    "                             target_size = input_size)\n",
    "        img = image.img_to_array(img)\n",
    "        img = img/255 # 圖像歸一化(x-0/255-0)\n",
    "        dataset_name.append(img)\n",
    "    array_name = np.array(dataset_name)\n",
    "    return array_name"
   ]
  },
  {
   "cell_type": "code",
   "execution_count": 3,
   "id": "72dac312",
   "metadata": {},
   "outputs": [
    {
     "name": "stderr",
     "output_type": "stream",
     "text": [
      "100%|█████████████████████████████████████████████████████████████████████████████| 3328/3328 [00:21<00:00, 157.45it/s]\n",
      "100%|████████████████████████████████████████████████████████████████████████████████| 832/832 [00:09<00:00, 88.76it/s]\n"
     ]
    }
   ],
   "source": [
    "train_image = load_image(\"D:/10979104/碩論程式整理/data_csv/train_image.csv\"\n",
    "                         , \"train_image\"\n",
    "                         , \"D:/10979104/碩論程式整理/train_data/\"\n",
    "                         , (299,299,3)\n",
    "                         , \"X_train\")\n",
    "valid_image = load_image(\"D:/10979104/碩論程式整理/data_csv/valid_image.csv\"\n",
    "                         , \"valid_image\"\n",
    "                         , \"D:/10979104/碩論程式整理/valid_data/\"\n",
    "                         , (299,299,3)\n",
    "                         , \"X_valid\")\n",
    "k_train = np.vstack([train_image, valid_image])"
   ]
  },
  {
   "cell_type": "code",
   "execution_count": 4,
   "id": "770481f2",
   "metadata": {},
   "outputs": [
    {
     "name": "stderr",
     "output_type": "stream",
     "text": [
      "100%|█████████████████████████████████████████████████████████████████████████████| 1040/1040 [00:10<00:00, 101.70it/s]\n"
     ]
    }
   ],
   "source": [
    "k_test = load_image(\"D:/10979104/碩論程式整理/data_csv/test_image.csv\"\n",
    "                         , \"test_image\"\n",
    "                         , \"D:/10979104/碩論程式整理/test_data/\"\n",
    "                         , (299,299,3)\n",
    "                         , \"X_test\")"
   ]
  },
  {
   "cell_type": "code",
   "execution_count": 5,
   "id": "454944d4",
   "metadata": {},
   "outputs": [],
   "source": [
    "train_label = pd.read_csv(\"D:/10979104/碩論程式整理/data_csv/train_label.csv\")\n",
    "valid_label = pd.read_csv(\"D:/10979104/碩論程式整理/data_csv/valid_label.csv\")\n",
    "k_test_label = pd.read_csv(\"D:/10979104/碩論程式整理/data_csv/test_label.csv\")"
   ]
  },
  {
   "cell_type": "code",
   "execution_count": 6,
   "id": "f2c92050",
   "metadata": {},
   "outputs": [],
   "source": [
    "k_train_label = pd.concat([train_label, valid_label], ignore_index=True)\n",
    "k_train_label = np.array(k_train_label)\n",
    "k_test_label = k_test_label.values.tolist()\n",
    "k_test_label = np.array(k_test_label)"
   ]
  },
  {
   "cell_type": "markdown",
   "id": "18c3db83",
   "metadata": {},
   "source": [
    "# model"
   ]
  },
  {
   "cell_type": "markdown",
   "id": "2d3fd63f",
   "metadata": {},
   "source": [
    "## 讀取模型"
   ]
  },
  {
   "cell_type": "code",
   "execution_count": 7,
   "id": "1750c59b",
   "metadata": {},
   "outputs": [],
   "source": [
    "from keras.models import load_model\n",
    "from keras.models import Sequential\n",
    "from keras.models import model_from_json\n",
    "def load_model(file_name, weight):\n",
    "    with open(file_name, \"r\")as text_file:\n",
    "        json_string = text_file.read()\n",
    "        model = Sequential()\n",
    "        model = model_from_json(json_string)\n",
    "        model.load_weights(weight, by_name = False)\n",
    "    return model"
   ]
  },
  {
   "cell_type": "code",
   "execution_count": 8,
   "id": "0334a846",
   "metadata": {},
   "outputs": [],
   "source": [
    "model = load_model(\"CNN_50_b100_Adam.json\", \"CNN_50_b100_Adam.h5\")"
   ]
  },
  {
   "cell_type": "markdown",
   "id": "9b8df199",
   "metadata": {},
   "source": [
    "# K-fold"
   ]
  },
  {
   "cell_type": "markdown",
   "id": "7a26720e",
   "metadata": {},
   "source": [
    "## 參數設定"
   ]
  },
  {
   "cell_type": "code",
   "execution_count": 9,
   "id": "9097a634",
   "metadata": {},
   "outputs": [],
   "source": [
    "from sklearn.model_selection import KFold\n",
    "from sklearn.metrics import roc_curve, auc"
   ]
  },
  {
   "cell_type": "code",
   "execution_count": 10,
   "id": "7e4056dc",
   "metadata": {},
   "outputs": [],
   "source": [
    "# 疊數\n",
    "num_folds = 10\n",
    "\n",
    "# 放置各疊分數\n",
    "acc_per_fold = []\n",
    "loss_per_fold = []\n",
    "auc_per_fold = []\n",
    "\n",
    "# 設定K-fold代碼\n",
    "fold_no = 1"
   ]
  },
  {
   "cell_type": "code",
   "execution_count": 11,
   "id": "988836c5",
   "metadata": {},
   "outputs": [],
   "source": [
    "kfold = KFold(n_splits=num_folds, shuffle=True)"
   ]
  },
  {
   "cell_type": "markdown",
   "id": "57550688",
   "metadata": {},
   "source": [
    "### 釋放記憶體"
   ]
  },
  {
   "cell_type": "code",
   "execution_count": 18,
   "id": "70f212ec",
   "metadata": {},
   "outputs": [
    {
     "data": {
      "text/plain": [
       "16587"
      ]
     },
     "execution_count": 18,
     "metadata": {},
     "output_type": "execute_result"
    }
   ],
   "source": [
    "# 釋放記憶體\n",
    "import gc\n",
    "# del(img)\n",
    "# del(train_image, valid_image)\n",
    "gc.collect()"
   ]
  },
  {
   "cell_type": "markdown",
   "id": "6b6d5d4b",
   "metadata": {},
   "source": [
    "### 確認target類型"
   ]
  },
  {
   "cell_type": "code",
   "execution_count": null,
   "id": "d5da5dda",
   "metadata": {},
   "outputs": [],
   "source": [
    "from sklearn.utils.multiclass import type_of_target"
   ]
  },
  {
   "cell_type": "code",
   "execution_count": null,
   "id": "0520cdd7",
   "metadata": {},
   "outputs": [],
   "source": [
    "print(type_of_target(k_test_label))"
   ]
  },
  {
   "cell_type": "markdown",
   "id": "9991ec41",
   "metadata": {},
   "source": [
    "### k-fold & result"
   ]
  },
  {
   "cell_type": "code",
   "execution_count": 19,
   "id": "a7ba96f0",
   "metadata": {},
   "outputs": [
    {
     "name": "stdout",
     "output_type": "stream",
     "text": [
      "--------------------------------------------\n",
      "Training for fold 1...\n",
      "Epoch 1/1\n",
      "3744/3744 [==============================] - 30s 8ms/step - loss: 0.1071 - accuracy: 0.9685\n",
      "Score for fold 1: loss of 0.6323962750169463; accuracy of 87.9807710647583%\n",
      "---------------------------------------------------\n",
      "score of fold\n",
      "-------------------------------------------------\n",
      ">fold 1 - loss: 0.6323962750169463 - Accuracy: 87.9807710647583% - Auc: 0.9790475530078896\n",
      "-------------------------------------------------------\n",
      "Average scores for all folds: \n",
      "> Accuracy: 87.9807710647583 (+-0.0)\n",
      "> Loss: 87.9807710647583 (+-0.0)\n",
      "> Auc: 0.9790475530078896\n",
      "--------------------------------------------\n",
      "Training for fold 2...\n",
      "Epoch 1/1\n",
      "3744/3744 [==============================] - 41s 11ms/step - loss: 0.0857 - accuracy: 0.9714\n",
      "Score for fold 2: loss of 0.8212475477950647; accuracy of 88.07692527770996%\n",
      "---------------------------------------------------\n",
      "score of fold\n",
      "-------------------------------------------------\n",
      ">fold 1 - loss: 0.6323962750169463 - Accuracy: 87.9807710647583% - Auc: 0.9790475530078896\n",
      "-------------------------------------------------\n",
      ">fold 2 - loss: 0.8212475477950647 - Accuracy: 88.07692527770996% - Auc: 0.9762439903846153\n",
      "-------------------------------------------------------\n",
      "Average scores for all folds: \n",
      "> Accuracy: 88.02884817123413 (+-0.04807710647583008)\n",
      "> Loss: 88.02884817123413 (+-0.09442563638905921)\n",
      "> Auc: 0.9776457716962524\n",
      "--------------------------------------------\n",
      "Training for fold 3...\n",
      "Epoch 1/1\n",
      "3744/3744 [==============================] - 32s 9ms/step - loss: 0.1022 - accuracy: 0.9682\n",
      "Score for fold 3: loss of 0.8267542837330928; accuracy of 87.88461685180664%\n",
      "---------------------------------------------------\n",
      "score of fold\n",
      "-------------------------------------------------\n",
      ">fold 1 - loss: 0.6323962750169463 - Accuracy: 87.9807710647583% - Auc: 0.9790475530078896\n",
      "-------------------------------------------------\n",
      ">fold 2 - loss: 0.8212475477950647 - Accuracy: 88.07692527770996% - Auc: 0.9762439903846153\n",
      "-------------------------------------------------\n",
      ">fold 3 - loss: 0.8267542837330928 - Accuracy: 87.88461685180664% - Auc: 0.9769827107988166\n",
      "-------------------------------------------------------\n",
      "Average scores for all folds: \n",
      "> Accuracy: 87.9807710647583 (+-0.07850958611682698)\n",
      "> Loss: 87.9807710647583 (+-0.09035126693000438)\n",
      "> Auc: 0.9774247513971072\n",
      "--------------------------------------------\n",
      "Training for fold 4...\n",
      "Epoch 1/1\n",
      "3744/3744 [==============================] - 31s 8ms/step - loss: 0.1216 - accuracy: 0.9642\n",
      "Score for fold 4: loss of 0.7522109628465334; accuracy of 88.07692527770996%\n",
      "---------------------------------------------------\n",
      "score of fold\n",
      "-------------------------------------------------\n",
      ">fold 1 - loss: 0.6323962750169463 - Accuracy: 87.9807710647583% - Auc: 0.9790475530078896\n",
      "-------------------------------------------------\n",
      ">fold 2 - loss: 0.8212475477950647 - Accuracy: 88.07692527770996% - Auc: 0.9762439903846153\n",
      "-------------------------------------------------\n",
      ">fold 3 - loss: 0.8267542837330928 - Accuracy: 87.88461685180664% - Auc: 0.9769827107988166\n",
      "-------------------------------------------------\n",
      ">fold 4 - loss: 0.7522109628465334 - Accuracy: 88.07692527770996% - Auc: 0.9747232495069034\n",
      "-------------------------------------------------------\n",
      "Average scores for all folds: \n",
      "> Accuracy: 88.00480961799622 (+-0.07972686159314708)\n",
      "> Loss: 88.00480961799622 (+-0.0783216441559124)\n",
      "> Auc: 0.9767493759245562\n",
      "--------------------------------------------\n",
      "Training for fold 5...\n",
      "Epoch 1/1\n",
      "3744/3744 [==============================] - 31s 8ms/step - loss: 0.1022 - accuracy: 0.9677\n",
      "Score for fold 5: loss of 0.764246276285065; accuracy of 87.40384578704834%\n",
      "---------------------------------------------------\n",
      "score of fold\n",
      "-------------------------------------------------\n",
      ">fold 1 - loss: 0.6323962750169463 - Accuracy: 87.9807710647583% - Auc: 0.9790475530078896\n",
      "-------------------------------------------------\n",
      ">fold 2 - loss: 0.8212475477950647 - Accuracy: 88.07692527770996% - Auc: 0.9762439903846153\n",
      "-------------------------------------------------\n",
      ">fold 3 - loss: 0.8267542837330928 - Accuracy: 87.88461685180664% - Auc: 0.9769827107988166\n",
      "-------------------------------------------------\n",
      ">fold 4 - loss: 0.7522109628465334 - Accuracy: 88.07692527770996% - Auc: 0.9747232495069034\n",
      "-------------------------------------------------\n",
      ">fold 5 - loss: 0.764246276285065 - Accuracy: 87.40384578704834% - Auc: 0.976666050295858\n",
      "-------------------------------------------------------\n",
      "Average scores for all folds: \n",
      "> Accuracy: 87.88461685180664 (+-0.25073951053793225)\n",
      "> Loss: 87.88461685180664 (+-0.07009540545439819)\n",
      "> Auc: 0.9767327107988166\n",
      "--------------------------------------------\n",
      "Training for fold 6...\n",
      "Epoch 1/1\n",
      "3744/3744 [==============================] - 35s 9ms/step - loss: 0.0971 - accuracy: 0.9688\n",
      "Score for fold 6: loss of 0.6858436795347818; accuracy of 88.65384459495544%\n",
      "---------------------------------------------------\n",
      "score of fold\n",
      "-------------------------------------------------\n",
      ">fold 1 - loss: 0.6323962750169463 - Accuracy: 87.9807710647583% - Auc: 0.9790475530078896\n",
      "-------------------------------------------------\n",
      ">fold 2 - loss: 0.8212475477950647 - Accuracy: 88.07692527770996% - Auc: 0.9762439903846153\n",
      "-------------------------------------------------\n",
      ">fold 3 - loss: 0.8267542837330928 - Accuracy: 87.88461685180664% - Auc: 0.9769827107988166\n",
      "-------------------------------------------------\n",
      ">fold 4 - loss: 0.7522109628465334 - Accuracy: 88.07692527770996% - Auc: 0.9747232495069034\n",
      "-------------------------------------------------\n",
      ">fold 5 - loss: 0.764246276285065 - Accuracy: 87.40384578704834% - Auc: 0.976666050295858\n",
      "-------------------------------------------------\n",
      ">fold 6 - loss: 0.6858436795347818 - Accuracy: 88.65384459495544% - Auc: 0.9739809849605522\n",
      "-------------------------------------------------------\n",
      "Average scores for all folds: \n",
      "> Accuracy: 88.01282147566478 (+-0.36684335396328166)\n",
      "> Loss: 88.01282147566478 (+-0.06960850065462472)\n",
      "> Auc: 0.9762740898257726\n",
      "--------------------------------------------\n",
      "Training for fold 7...\n",
      "Epoch 1/1\n",
      "3744/3744 [==============================] - 29s 8ms/step - loss: 0.1316 - accuracy: 0.9613\n",
      "Score for fold 7: loss of 0.6726864552322346; accuracy of 87.30769157409668%\n",
      "---------------------------------------------------\n",
      "score of fold\n",
      "-------------------------------------------------\n",
      ">fold 1 - loss: 0.6323962750169463 - Accuracy: 87.9807710647583% - Auc: 0.9790475530078896\n",
      "-------------------------------------------------\n",
      ">fold 2 - loss: 0.8212475477950647 - Accuracy: 88.07692527770996% - Auc: 0.9762439903846153\n",
      "-------------------------------------------------\n",
      ">fold 3 - loss: 0.8267542837330928 - Accuracy: 87.88461685180664% - Auc: 0.9769827107988166\n",
      "-------------------------------------------------\n",
      ">fold 4 - loss: 0.7522109628465334 - Accuracy: 88.07692527770996% - Auc: 0.9747232495069034\n",
      "-------------------------------------------------\n",
      ">fold 5 - loss: 0.764246276285065 - Accuracy: 87.40384578704834% - Auc: 0.976666050295858\n",
      "-------------------------------------------------\n",
      ">fold 6 - loss: 0.6858436795347818 - Accuracy: 88.65384459495544% - Auc: 0.9739809849605522\n",
      "-------------------------------------------------\n",
      ">fold 7 - loss: 0.6726864552322346 - Accuracy: 87.30769157409668% - Auc: 0.9731088202662722\n",
      "-------------------------------------------------------\n",
      "Average scores for all folds: \n",
      "> Accuracy: 87.91208863258362 (+-0.4197997339618565)\n",
      "> Loss: 87.91208863258362 (+-0.06950897965773899)\n",
      "> Auc: 0.9758219084601297\n",
      "--------------------------------------------\n",
      "Training for fold 8...\n",
      "Epoch 1/1\n",
      "3744/3744 [==============================] - 31s 8ms/step - loss: 0.1139 - accuracy: 0.9712\n",
      "Score for fold 8: loss of 0.6363725531029139; accuracy of 88.46153616905212%\n",
      "---------------------------------------------------\n",
      "score of fold\n",
      "-------------------------------------------------\n",
      ">fold 1 - loss: 0.6323962750169463 - Accuracy: 87.9807710647583% - Auc: 0.9790475530078896\n",
      "-------------------------------------------------\n",
      ">fold 2 - loss: 0.8212475477950647 - Accuracy: 88.07692527770996% - Auc: 0.9762439903846153\n",
      "-------------------------------------------------\n",
      ">fold 3 - loss: 0.8267542837330928 - Accuracy: 87.88461685180664% - Auc: 0.9769827107988166\n",
      "-------------------------------------------------\n",
      ">fold 4 - loss: 0.7522109628465334 - Accuracy: 88.07692527770996% - Auc: 0.9747232495069034\n",
      "-------------------------------------------------\n",
      ">fold 5 - loss: 0.764246276285065 - Accuracy: 87.40384578704834% - Auc: 0.976666050295858\n",
      "-------------------------------------------------\n",
      ">fold 6 - loss: 0.6858436795347818 - Accuracy: 88.65384459495544% - Auc: 0.9739809849605522\n",
      "-------------------------------------------------\n",
      ">fold 7 - loss: 0.6726864552322346 - Accuracy: 87.30769157409668% - Auc: 0.9731088202662722\n",
      "-------------------------------------------------\n",
      ">fold 8 - loss: 0.6363725531029139 - Accuracy: 88.46153616905212% - Auc: 0.979990138067061\n",
      "-------------------------------------------------------\n",
      "Average scores for all folds: \n",
      "> Accuracy: 87.98076957464218 (+-0.43269197146411426)\n",
      "> Loss: 87.98076957464218 (+-0.07296397980106051)\n",
      "> Auc: 0.9763429371609961\n",
      "--------------------------------------------\n",
      "Training for fold 9...\n"
     ]
    },
    {
     "name": "stdout",
     "output_type": "stream",
     "text": [
      "Epoch 1/1\n",
      "3744/3744 [==============================] - 32s 8ms/step - loss: 0.0986 - accuracy: 0.9720\n",
      "Score for fold 9: loss of 0.8003071075571755; accuracy of 87.21153736114502%\n",
      "---------------------------------------------------\n",
      "score of fold\n",
      "-------------------------------------------------\n",
      ">fold 1 - loss: 0.6323962750169463 - Accuracy: 87.9807710647583% - Auc: 0.9790475530078896\n",
      "-------------------------------------------------\n",
      ">fold 2 - loss: 0.8212475477950647 - Accuracy: 88.07692527770996% - Auc: 0.9762439903846153\n",
      "-------------------------------------------------\n",
      ">fold 3 - loss: 0.8267542837330928 - Accuracy: 87.88461685180664% - Auc: 0.9769827107988166\n",
      "-------------------------------------------------\n",
      ">fold 4 - loss: 0.7522109628465334 - Accuracy: 88.07692527770996% - Auc: 0.9747232495069034\n",
      "-------------------------------------------------\n",
      ">fold 5 - loss: 0.764246276285065 - Accuracy: 87.40384578704834% - Auc: 0.976666050295858\n",
      "-------------------------------------------------\n",
      ">fold 6 - loss: 0.6858436795347818 - Accuracy: 88.65384459495544% - Auc: 0.9739809849605522\n",
      "-------------------------------------------------\n",
      ">fold 7 - loss: 0.6726864552322346 - Accuracy: 87.30769157409668% - Auc: 0.9731088202662722\n",
      "-------------------------------------------------\n",
      ">fold 8 - loss: 0.6363725531029139 - Accuracy: 88.46153616905212% - Auc: 0.979990138067061\n",
      "-------------------------------------------------\n",
      ">fold 9 - loss: 0.8003071075571755 - Accuracy: 87.21153736114502% - Auc: 0.9745434233234714\n",
      "-------------------------------------------------------\n",
      "Average scores for all folds: \n",
      "> Accuracy: 87.89529932869806 (+-0.4741952796477662)\n",
      "> Loss: 87.89529932869806 (+-0.07285437709672216)\n",
      "> Auc: 0.9761429911790489\n",
      "--------------------------------------------\n",
      "Training for fold 10...\n",
      "Epoch 1/1\n",
      "3744/3744 [==============================] - 31s 8ms/step - loss: 0.1144 - accuracy: 0.9666\n",
      "Score for fold 10: loss of 0.7402034595820274; accuracy of 87.21153736114502%\n",
      "---------------------------------------------------\n",
      "score of fold\n",
      "-------------------------------------------------\n",
      ">fold 1 - loss: 0.6323962750169463 - Accuracy: 87.9807710647583% - Auc: 0.9790475530078896\n",
      "-------------------------------------------------\n",
      ">fold 2 - loss: 0.8212475477950647 - Accuracy: 88.07692527770996% - Auc: 0.9762439903846153\n",
      "-------------------------------------------------\n",
      ">fold 3 - loss: 0.8267542837330928 - Accuracy: 87.88461685180664% - Auc: 0.9769827107988166\n",
      "-------------------------------------------------\n",
      ">fold 4 - loss: 0.7522109628465334 - Accuracy: 88.07692527770996% - Auc: 0.9747232495069034\n",
      "-------------------------------------------------\n",
      ">fold 5 - loss: 0.764246276285065 - Accuracy: 87.40384578704834% - Auc: 0.976666050295858\n",
      "-------------------------------------------------\n",
      ">fold 6 - loss: 0.6858436795347818 - Accuracy: 88.65384459495544% - Auc: 0.9739809849605522\n",
      "-------------------------------------------------\n",
      ">fold 7 - loss: 0.6726864552322346 - Accuracy: 87.30769157409668% - Auc: 0.9731088202662722\n",
      "-------------------------------------------------\n",
      ">fold 8 - loss: 0.6363725531029139 - Accuracy: 88.46153616905212% - Auc: 0.979990138067061\n",
      "-------------------------------------------------\n",
      ">fold 9 - loss: 0.8003071075571755 - Accuracy: 87.21153736114502% - Auc: 0.9745434233234714\n",
      "-------------------------------------------------\n",
      ">fold 10 - loss: 0.7402034595820274 - Accuracy: 87.21153736114502% - Auc: 0.9755370130670611\n",
      "-------------------------------------------------------\n",
      "Average scores for all folds: \n",
      "> Accuracy: 87.82692313194275 (+-0.4944216676690863)\n",
      "> Loss: 87.82692313194275 (+-0.06915484321771226)\n",
      "> Auc: 0.9760823933678502\n"
     ]
    }
   ],
   "source": [
    "for train, valid in kfold.split(k_train, k_train_label):\n",
    "    model.compile(optimizer='adam',\n",
    "                  loss='categorical_crossentropy',\n",
    "                  metrics=['accuracy'])\n",
    "    print('--------------------------------------------')\n",
    "    print(f'Training for fold {fold_no}...')\n",
    "    \n",
    "    history = model.fit(k_train[train],\n",
    "                        k_train_label[train],\n",
    "                        batch_size=100,\n",
    "                        epochs=1,\n",
    "                        verbose=1)\n",
    "    score = model.evaluate(k_test,\n",
    "                           k_test_label,\n",
    "                           verbose=0)\n",
    "    \n",
    "    y_score = model.predict_proba(k_test)\n",
    "    \n",
    "#     y_list = k_test_label.values.tolist() # 先將標籤轉為list\n",
    "#     y_npa = np.array(y_list)\n",
    "    \n",
    "    \n",
    "    fpr, tpr, thresholds = roc_curve(k_test_label.ravel(), y_score.ravel())\n",
    "    \n",
    "    roc = auc(fpr, tpr)\n",
    "    \n",
    "    print(f'Score for fold {fold_no}: {model.metrics_names[0]} of {score[0]}; {model.metrics_names[1]} of {score[1]*100}%')\n",
    "    \n",
    "    acc_per_fold.append(score[1]*100)\n",
    "    loss_per_fold.append(score[0])\n",
    "    auc_per_fold.append(roc)\n",
    "    \n",
    "    fold_no = fold_no + 1\n",
    "    \n",
    "    print('---------------------------------------------------')\n",
    "    print('score of fold')\n",
    "    \n",
    "    for i in range(0, len(acc_per_fold)):\n",
    "        print('-------------------------------------------------')\n",
    "        print(f'>fold {i+1} - loss: {loss_per_fold[i]} - Accuracy: {acc_per_fold[i]}% - Auc: {auc_per_fold[i]}')\n",
    "    \n",
    "    print('-------------------------------------------------------')\n",
    "    print('Average scores for all folds: ')\n",
    "    print(f'> Accuracy: {np.mean(acc_per_fold)} (+-{np.std(acc_per_fold)})')\n",
    "    print(f'> Loss: {np.mean(acc_per_fold)} (+-{np.std(loss_per_fold)})')\n",
    "    print(f'> Auc: {np.mean(auc_per_fold)}')      "
   ]
  }
 ],
 "metadata": {
  "kernelspec": {
   "display_name": "Python 3 (ipykernel)",
   "language": "python",
   "name": "python3"
  },
  "language_info": {
   "codemirror_mode": {
    "name": "ipython",
    "version": 3
   },
   "file_extension": ".py",
   "mimetype": "text/x-python",
   "name": "python",
   "nbconvert_exporter": "python",
   "pygments_lexer": "ipython3",
   "version": "3.7.10"
  }
 },
 "nbformat": 4,
 "nbformat_minor": 5
}
